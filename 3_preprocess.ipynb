{
 "cells": [
  {
   "cell_type": "code",
   "execution_count": 2,
   "metadata": {},
   "outputs": [],
   "source": [
    "import numpy as np\n",
    "import skimage.transform as sktransform\n",
    "import random\n",
    "import matplotlib\n",
    "import os\n",
    "import pandas as pd\n",
    "\n",
    "# Cameras we will use\n",
    "cameras = ['left', 'center', 'right']\n",
    "cameras_steering_correction = [.25, 0., -.25]\n",
    "\n",
    "def preprocess(image, top_offset=.375, bottom_offset=.125):\n",
    "    \"\"\"\n",
    "    Applies preprocessing pipeline to an image: crops `top_offset` and `bottom_offset`\n",
    "    portions of image, resizes to 32x128 px and scales pixel values to [0, 1].\n",
    "    \"\"\"\n",
    "    top = int(top_offset * image.shape[0])\n",
    "    bottom = int(bottom_offset * image.shape[0])\n",
    "    image = sktransform.resize(image[top:-bottom, :], (32, 128, 3))\n",
    "    return image\n",
    "\n",
    "def generate_samples(data, root_path, augment=True):\n",
    "    \"\"\"\n",
    "    Keras generator yielding batches of training/validation data.\n",
    "    Applies data augmentation pipeline if `augment` is True.\n",
    "    \"\"\"\n",
    "    while True:\n",
    "        # Generate random batch of indices\n",
    "        indices = np.random.permutation(data.count()[0])\n",
    "        batch_size = 128\n",
    "        for batch in range(0, len(indices), batch_size):\n",
    "            batch_indices = indices[batch:(batch + batch_size)]\n",
    "            # Output arrays\n",
    "            x = np.empty([0, 32, 128, 3], dtype=np.float32)\n",
    "            y = np.empty([0], dtype=np.float32)\n",
    "            # Read in and preprocess a batch of images\n",
    "            for i in batch_indices:\n",
    "                # Randomly select camera\n",
    "                camera = np.random.randint(len(cameras)) if augment else 1\n",
    "                # Read frame image and work out steering angle\n",
    "                image = mpimg.imread(os.path.join(root_path, data[cameras[camera]].values[i].strip()))\n",
    "                angle = data.steering.values[i] + cameras_steering_correction[camera]\n",
    "                if augment:\n",
    "                    # Add random shadow as a vertical slice of image\n",
    "                    h, w = image.shape[0], image.shape[1]\n",
    "                    [x1, x2] = np.random.choice(w, 2, replace=False)\n",
    "                    k = h / (x2 - x1)\n",
    "                    b = - k * x1\n",
    "                    for i in range(h):\n",
    "                        c = int((i - b) / k)\n",
    "                        image[i, :c, :] = (image[i, :c, :] * .5).astype(np.int32)\n",
    "                # Randomly shift up and down while preprocessing\n",
    "                v_delta = .05 if augment else 0\n",
    "                image = preprocess(\n",
    "                    image,\n",
    "                    top_offset=random.uniform(.375 - v_delta, .375 + v_delta),\n",
    "                    bottom_offset=random.uniform(.125 - v_delta, .125 + v_delta)\n",
    "                )\n",
    "                # Append to batch\n",
    "                x = np.append(x, [image], axis=0)\n",
    "                y = np.append(y, [angle])\n",
    "            # Randomly flip half of images in the batch\n",
    "            flip_indices = random.sample(range(x.shape[0]), int(x.shape[0] / 2))\n",
    "            x[flip_indices] = x[flip_indices, :, ::-1, :]\n",
    "            y[flip_indices] = -y[flip_indices]\n",
    "            yield (x, y)"
   ]
  },
  {
   "cell_type": "code",
   "execution_count": 5,
   "metadata": {},
   "outputs": [
    {
     "data": {
      "text/plain": [
       "<generator object generate_samples at 0x000001B390FF4A60>"
      ]
     },
     "execution_count": 5,
     "metadata": {},
     "output_type": "execute_result"
    }
   ],
   "source": [
    "df = pd.read_csv(\"C:\\\\Users\\\\moura\\\\Searches\\\\behavior-cloning\\\\DataAndLoader\\\\driving_log2.csv\")\n",
    "path = \"C:\\\\Users\\\\moura\\\\Searches\\\\behavior-cloning\\\\DataAndLoader\\\\IMG\"\n",
    "samples_generator = generate_samples(df, path, augment=True)\n",
    "samples_generator"
   ]
  }
 ],
 "metadata": {
  "kernelspec": {
   "display_name": "visao",
   "language": "python",
   "name": "python3"
  },
  "language_info": {
   "codemirror_mode": {
    "name": "ipython",
    "version": 3
   },
   "file_extension": ".py",
   "mimetype": "text/x-python",
   "name": "python",
   "nbconvert_exporter": "python",
   "pygments_lexer": "ipython3",
   "version": "3.12.4"
  }
 },
 "nbformat": 4,
 "nbformat_minor": 2
}

{
  "cells": [
    {
      "cell_type": "markdown",
      "metadata": {
        "id": "_NpMi6bG9z1t"
      },
      "source": [
        "Faça o upload de um arquivo .zip com os seus dados e use o comando abaixo após a finalização do upload para a extração do conteúdo do arquivo no colab."
      ]
    },
    {
      "cell_type": "markdown",
      "metadata": {
        "id": "smgD-6OS-KuL"
      },
      "source": [
        "Implemente as funções a seguir."
      ]
    },
    {
      "cell_type": "code",
      "execution_count": 16,
      "metadata": {
        "id": "__8dnSXJ_YtC"
      },
      "outputs": [],
      "source": [
        "from torch.utils.data import Dataset, DataLoader\n",
        "import torch\n",
        "from torch import nn\n",
        "import os\n",
        "import pandas as pd\n",
        "from torchvision.io import read_image\n",
        "from torchvision import transforms\n"
      ]
    },
    {
      "cell_type": "code",
      "execution_count": 17,
      "metadata": {
        "id": "0asP2qsKXuBN"
      },
      "outputs": [],
      "source": [
        "\n",
        "class CarSimDataset(Dataset):\n",
        "    def __init__(self, annotations_file, img_dir, transform=None, target_transform=None):\n",
        "        self.img_labels = pd.read_csv(annotations_file)\n",
        "        self.img_dir = img_dir\n",
        "        self.transform = transform\n",
        "        self.target_transform = target_transform\n",
        "\n",
        "    def __len__(self):\n",
        "        return len(self.img_labels)\n",
        "\n",
        "    def __getitem__(self, idx):\n",
        "        img_path = os.path.join(self.img_dir, self.img_labels.iloc[idx, 0].strip())\n",
        "        image = read_image(img_path) \n",
        "        label = self.img_labels.iloc[idx, 1]\n",
        "        \n",
        "        if self.transform:\n",
        "            image = self.transform(image)  \n",
        "        \n",
        "        if self.target_transform:\n",
        "            label = self.target_transform(label)\n",
        "        \n",
        "        return image, label\n"
      ]
    },
    {
      "cell_type": "markdown",
      "metadata": {},
      "source": [
        "Crie as variáveis a seguir a partir da classe implementada acima."
      ]
    },
    {
      "cell_type": "code",
      "execution_count": 18,
      "metadata": {},
      "outputs": [],
      "source": [
        "# Ajuste nas transformações para assegurar que o tensor seja convertido para float, normalizado e com aumento de dados aplicado\n",
        "transform = transforms.Compose([\n",
        "    transforms.Resize((28, 28)),  \n",
        "    transforms.RandomRotation(degrees=5),  \n",
        "    transforms.ColorJitter(brightness=0.2), \n",
        "    transforms.RandomHorizontalFlip(),  \n",
        "    transforms.ConvertImageDtype(torch.float), \n",
        "    transforms.Normalize(mean=[0.485, 0.456, 0.406], std=[0.229, 0.224, 0.225]) \n",
        "])\n",
        "\n",
        "# Transformação dos rótulos (normalizando os valores de ângulo, se aplicável)\n",
        "def normalize_labels(label):\n",
        "    max_angle = 25  \n",
        "    return label / max_angle\n",
        "\n",
        "# Dataset de treino com transformações atualizadas\n",
        "train_dataset = CarSimDataset(\n",
        "    # Se precisar, edite o caminho do driving aqui\n",
        "    # annotations_file='C:\\\\Users\\\\moura\\\\Searches\\\\behavior-cloning\\\\driving_log_ok.csv',\n",
        "    annotations_file='C:\\\\Users\\\\moura\\\\Searches\\\\behavior-cloning\\\\tesst.csv',\n",
        "    img_dir='DataAndLoader\\\\IMG',\n",
        "    transform=transform,\n",
        "    target_transform=normalize_labels \n",
        ")\n",
        "\n",
        "# Dataset de teste\n",
        "test_dataset = CarSimDataset(\n",
        "    annotations_file='C:\\\\Users\\\\moura\\\\Searches\\\\behavior-cloning\\\\tesst.csv',\n",
        "    img_dir='DataAndLoader\\\\IMG',\n",
        "    transform=transform,\n",
        "    target_transform=normalize_labels\n",
        ")\n"
      ]
    },
    {
      "cell_type": "code",
      "execution_count": 19,
      "metadata": {},
      "outputs": [
        {
          "data": {
            "text/plain": [
              "<__main__.CarSimDataset at 0x21cd8b4b8f0>"
            ]
          },
          "execution_count": 19,
          "metadata": {},
          "output_type": "execute_result"
        }
      ],
      "source": [
        "train_dataset"
      ]
    },
    {
      "cell_type": "markdown",
      "metadata": {
        "id": "UXDLTbuqESux"
      },
      "source": [
        "O código abaixo será utilizado para treinar o modelo com o seu dataset."
      ]
    },
    {
      "cell_type": "code",
      "execution_count": 20,
      "metadata": {
        "id": "Xwd083wA_rrD"
      },
      "outputs": [],
      "source": [
        "batch_size = 64\n",
        "train_dataloader = DataLoader(train_dataset, batch_size=batch_size, shuffle=False)\n",
        "test_dataloader = DataLoader(test_dataset, batch_size=batch_size, shuffle=False)"
      ]
    },
    {
      "cell_type": "code",
      "execution_count": 21,
      "metadata": {
        "colab": {
          "base_uri": "https://localhost:8080/",
          "height": 356
        },
        "id": "5VJYlF1KSi44",
        "outputId": "d4f4b5c6-81ff-4871-86ae-1ac30dd54937"
      },
      "outputs": [
        {
          "name": "stdout",
          "output_type": "stream",
          "text": [
            "Shape of X [N, C, H, W]: torch.Size([64, 3, 28, 28])\n",
            "Shape of y: torch.Size([64]) torch.float32\n"
          ]
        }
      ],
      "source": [
        "for X, y in test_dataloader:\n",
        "    print(f\"Shape of X [N, C, H, W]: {X.shape}\")\n",
        "    print(f\"Shape of y: {y.shape} {y.dtype}\")\n",
        "    break"
      ]
    },
    {
      "cell_type": "code",
      "execution_count": 22,
      "metadata": {
        "colab": {
          "base_uri": "https://localhost:8080/"
        },
        "id": "ROBTIl6pAESA",
        "outputId": "6e9f988b-ea0c-47ad-91de-0bef2b30448a"
      },
      "outputs": [
        {
          "name": "stdout",
          "output_type": "stream",
          "text": [
            "Using cpu device\n",
            "NeuralNetwork(\n",
            "  (flatten): Flatten(start_dim=1, end_dim=-1)\n",
            "  (linear_relu_stack): Sequential(\n",
            "    (0): Linear(in_features=2352, out_features=512, bias=True)\n",
            "    (1): ReLU()\n",
            "    (2): Linear(in_features=512, out_features=512, bias=True)\n",
            "    (3): ReLU()\n",
            "    (4): Linear(in_features=512, out_features=512, bias=True)\n",
            "    (5): ReLU()\n",
            "    (6): Linear(in_features=512, out_features=512, bias=True)\n",
            "    (7): ReLU()\n",
            "    (8): Linear(in_features=512, out_features=512, bias=True)\n",
            "    (9): ReLU()\n",
            "    (10): Linear(in_features=512, out_features=512, bias=True)\n",
            "    (11): ReLU()\n",
            "    (12): Linear(in_features=512, out_features=512, bias=True)\n",
            "    (13): ReLU()\n",
            "    (14): Linear(in_features=512, out_features=512, bias=True)\n",
            "    (15): ReLU()\n",
            "    (16): Linear(in_features=512, out_features=512, bias=True)\n",
            "    (17): ReLU()\n",
            "    (18): Linear(in_features=512, out_features=1, bias=True)\n",
            "  )\n",
            ")\n"
          ]
        }
      ],
      "source": [
        "# Get cpu, gpu or mps device for training.\n",
        "device = (\n",
        "    \"cuda\"\n",
        "    if torch.cuda.is_available()\n",
        "    else \"mps\"\n",
        "    if torch.backends.mps.is_available()\n",
        "    else \"cpu\"\n",
        ")\n",
        "print(f\"Using {device} device\")\n",
        "\n",
        "# Define model\n",
        "class NeuralNetwork(nn.Module):\n",
        "    def __init__(self):\n",
        "        super().__init__()\n",
        "        self.flatten = nn.Flatten()\n",
        "        self.linear_relu_stack = nn.Sequential(\n",
        "            nn.Linear(28*28*3, 512),\n",
        "            nn.ReLU(),\n",
        "            nn.Linear(512, 512),\n",
        "            nn.ReLU(),\n",
        "            nn.Linear(512, 1)\n",
        "        )\n",
        "\n",
        "    def forward(self, x):\n",
        "        x = self.flatten(x)\n",
        "        logits = self.linear_relu_stack(x)\n",
        "        return logits.squeeze()\n",
        "\n",
        "model = NeuralNetwork().to(device)\n",
        "print(model)"
      ]
    },
    {
      "cell_type": "code",
      "execution_count": 23,
      "metadata": {
        "id": "PJxdeuCBBRc-"
      },
      "outputs": [],
      "source": [
        "loss_fn = nn.MSELoss()\n",
        "optimizer = torch.optim.SGD(model.parameters(), lr=1e-3)"
      ]
    },
    {
      "cell_type": "code",
      "execution_count": 24,
      "metadata": {
        "id": "0Cw8XfLNBY97"
      },
      "outputs": [],
      "source": [
        "def train(dataloader, model, loss_fn, optimizer):\n",
        "    size = len(dataloader.dataset)\n",
        "    model.train()\n",
        "    for batch, (X, y) in enumerate(dataloader):\n",
        "        X, y = X.to(device), y.to(device)\n",
        "\n",
        "        # Compute prediction error\n",
        "        pred = model(X)\n",
        "        loss = loss_fn(pred, y)\n",
        "\n",
        "        # Backpropagation\n",
        "        optimizer.zero_grad()\n",
        "        loss.backward()\n",
        "        optimizer.step()\n",
        "\n",
        "        if batch % 100 == 0:\n",
        "            loss, current = loss.item(), (batch + 1) * len(X)\n",
        "            print(f\"loss: {loss:>7f}  [{current:>5d}/{size:>5d}]\")"
      ]
    },
    {
      "cell_type": "code",
      "execution_count": 25,
      "metadata": {
        "id": "b-T_bjFhBnOX"
      },
      "outputs": [],
      "source": [
        "def test(dataloader, model, loss_fn):\n",
        "    size = len(dataloader.dataset)\n",
        "    num_batches = len(dataloader)\n",
        "    model.eval()\n",
        "    test_loss, correct = 0, 0\n",
        "    with torch.no_grad():\n",
        "        for X, y in dataloader:\n",
        "            X, y = X.to(device), y.to(device)\n",
        "            pred = model(X)\n",
        "            test_loss += loss_fn(pred, y).item()\n",
        "            # correct += (pred.argmax(1) == y).type(torch.float).sum().item()\n",
        "    test_loss /= num_batches\n",
        "    # correct /= size\n",
        "    print(f\"Test Error: \\n Accuracy: {(100*correct):>0.1f}%, Avg loss: {test_loss:>8f} \\n\")"
      ]
    },
    {
      "cell_type": "code",
      "execution_count": 26,
      "metadata": {
        "colab": {
          "base_uri": "https://localhost:8080/",
          "height": 408
        },
        "id": "8x4aJZpNBqAt",
        "outputId": "3387f2ac-9b26-4b92-abf9-5738617078b2"
      },
      "outputs": [
        {
          "name": "stdout",
          "output_type": "stream",
          "text": [
            "Epoch 1\n",
            "-------------------------------\n",
            "loss: 0.000053  [   64/22265]\n",
            "loss: 0.000082  [ 6464/22265]\n",
            "loss: 0.000025  [12864/22265]\n",
            "loss: 0.000014  [19264/22265]\n",
            "Test Error: \n",
            " Accuracy: 0.0%, Avg loss: 0.000025 \n",
            "\n",
            "Epoch 2\n",
            "-------------------------------\n",
            "loss: 0.000004  [   64/22265]\n",
            "loss: 0.000014  [ 6464/22265]\n",
            "loss: 0.000005  [12864/22265]\n",
            "loss: 0.000001  [19264/22265]\n",
            "Test Error: \n",
            " Accuracy: 0.0%, Avg loss: 0.000011 \n",
            "\n",
            "Epoch 3\n",
            "-------------------------------\n",
            "loss: 0.000010  [   64/22265]\n",
            "loss: 0.000003  [ 6464/22265]\n",
            "loss: 0.000005  [12864/22265]\n",
            "loss: 0.000001  [19264/22265]\n",
            "Test Error: \n",
            " Accuracy: 0.0%, Avg loss: 0.000009 \n",
            "\n",
            "Epoch 4\n",
            "-------------------------------\n",
            "loss: 0.000016  [   64/22265]\n",
            "loss: 0.000001  [ 6464/22265]\n",
            "loss: 0.000007  [12864/22265]\n",
            "loss: 0.000002  [19264/22265]\n",
            "Test Error: \n",
            " Accuracy: 0.0%, Avg loss: 0.000009 \n",
            "\n",
            "Epoch 5\n",
            "-------------------------------\n",
            "loss: 0.000019  [   64/22265]\n",
            "loss: 0.000001  [ 6464/22265]\n",
            "loss: 0.000007  [12864/22265]\n",
            "loss: 0.000002  [19264/22265]\n",
            "Test Error: \n",
            " Accuracy: 0.0%, Avg loss: 0.000009 \n",
            "\n",
            "Epoch 6\n",
            "-------------------------------\n",
            "loss: 0.000020  [   64/22265]\n",
            "loss: 0.000001  [ 6464/22265]\n",
            "loss: 0.000008  [12864/22265]\n",
            "loss: 0.000002  [19264/22265]\n",
            "Test Error: \n",
            " Accuracy: 0.0%, Avg loss: 0.000009 \n",
            "\n",
            "Epoch 7\n",
            "-------------------------------\n",
            "loss: 0.000020  [   64/22265]\n",
            "loss: 0.000001  [ 6464/22265]\n",
            "loss: 0.000008  [12864/22265]\n",
            "loss: 0.000002  [19264/22265]\n",
            "Test Error: \n",
            " Accuracy: 0.0%, Avg loss: 0.000009 \n",
            "\n",
            "Epoch 8\n",
            "-------------------------------\n",
            "loss: 0.000021  [   64/22265]\n",
            "loss: 0.000001  [ 6464/22265]\n",
            "loss: 0.000008  [12864/22265]\n",
            "loss: 0.000002  [19264/22265]\n",
            "Test Error: \n",
            " Accuracy: 0.0%, Avg loss: 0.000009 \n",
            "\n",
            "Epoch 9\n",
            "-------------------------------\n",
            "loss: 0.000020  [   64/22265]\n",
            "loss: 0.000001  [ 6464/22265]\n",
            "loss: 0.000008  [12864/22265]\n",
            "loss: 0.000002  [19264/22265]\n",
            "Test Error: \n",
            " Accuracy: 0.0%, Avg loss: 0.000009 \n",
            "\n",
            "Epoch 10\n",
            "-------------------------------\n",
            "loss: 0.000021  [   64/22265]\n",
            "loss: 0.000001  [ 6464/22265]\n",
            "loss: 0.000008  [12864/22265]\n",
            "loss: 0.000002  [19264/22265]\n",
            "Test Error: \n",
            " Accuracy: 0.0%, Avg loss: 0.000009 \n",
            "\n",
            "Done!\n"
          ]
        }
      ],
      "source": [
        "epochs = 10\n",
        "for t in range(epochs):\n",
        "    print(f\"Epoch {t+1}\\n-------------------------------\")\n",
        "    train(train_dataloader, model, loss_fn, optimizer)\n",
        "    test(test_dataloader, model, loss_fn)\n",
        "print(\"Done!\")"
      ]
    },
    {
      "cell_type": "code",
      "execution_count": 27,
      "metadata": {
        "id": "5AaRBZ1gDxUP"
      },
      "outputs": [
        {
          "name": "stdout",
          "output_type": "stream",
          "text": [
            "Saved PyTorch Model State to model.pth\n"
          ]
        }
      ],
      "source": [
        "torch.save(model.state_dict(), \"model_redegigante.pth\")\n",
        "print(\"Saved PyTorch Model State to model.pth\")"
      ]
    },
    {
      "cell_type": "markdown",
      "metadata": {
        "id": "TvtnIBFlD35c"
      },
      "source": [
        "Faça o download do seu modelo após o treinamento, caso queira testá-lo no simulador.\n",
        "\n",
        "O código a seguir demonstra como o modelo será usado para inferência no simulador. Caso seja necessário, altere a função *preprocess*."
      ]
    },
    {
      "cell_type": "code",
      "execution_count": 28,
      "metadata": {
        "id": "RVqjjnUOGc8F"
      },
      "outputs": [],
      "source": [
        "def preprocess(x):\n",
        "    # TODO: se necessário, alterar função\n",
        "    return x"
      ]
    },
    {
      "cell_type": "code",
      "execution_count": 29,
      "metadata": {
        "id": "1LLWerSXFjRR"
      },
      "outputs": [],
      "source": [
        "# model = NeuralNetwork().to(device)\n",
        "# model.load_state_dict(torch.load(\"model.pth\"))"
      ]
    },
    {
      "cell_type": "code",
      "execution_count": 30,
      "metadata": {
        "id": "ZAI2oGcAGqsz"
      },
      "outputs": [],
      "source": [
        "# model.eval()\n",
        "# x = test_data[0][0]\n",
        "# with torch.no_grad():\n",
        "    # x = preprocess(x)\n",
        "    # x = x.to(device)\n",
        "    # pred = model(x)"
      ]
    }
  ],
  "metadata": {
    "colab": {
      "provenance": []
    },
    "kernelspec": {
      "display_name": "Python 3",
      "name": "python3"
    },
    "language_info": {
      "codemirror_mode": {
        "name": "ipython",
        "version": 3
      },
      "file_extension": ".py",
      "mimetype": "text/x-python",
      "name": "python",
      "nbconvert_exporter": "python",
      "pygments_lexer": "ipython3",
      "version": "3.12.4"
    }
  },
  "nbformat": 4,
  "nbformat_minor": 0
}

{
  "cells": [
    {
      "cell_type": "markdown",
      "metadata": {
        "id": "_NpMi6bG9z1t"
      },
      "source": [
        "Faça o upload de um arquivo .zip com os seus dados e use o comando abaixo após a finalização do upload para a extração do conteúdo do arquivo no colab."
      ]
    },
    {
      "cell_type": "markdown",
      "metadata": {
        "id": "smgD-6OS-KuL"
      },
      "source": [
        "Implemente as funções a seguir."
      ]
    },
    {
      "cell_type": "code",
      "execution_count": 25,
      "metadata": {
        "id": "__8dnSXJ_YtC"
      },
      "outputs": [],
      "source": [
        "from torch.utils.data import Dataset, DataLoader\n",
        "import torch\n",
        "from torch import nn\n",
        "import os\n",
        "import pandas as pd\n",
        "from torchvision.io import read_image\n",
        "from torchvision import transforms\n",
        "import numpy as np\n",
        "import random"
      ]
    },
    {
      "cell_type": "code",
      "execution_count": 26,
      "metadata": {
        "id": "0asP2qsKXuBN"
      },
      "outputs": [],
      "source": [
        "\n",
        "def add_random_shadow(image):\n",
        "    # Adiciona sombra aleatória como uma fatia vertical da imagem\n",
        "    h, w = image.shape[1], image.shape[2]\n",
        "    x1, x2 = np.random.choice(w, 2, replace=False)\n",
        "    k = h / (x2 - x1)\n",
        "    b = - k * x1\n",
        "    shadow_intensity = 0.5\n",
        "    for i in range(h):\n",
        "        c = int((i - b) / k)\n",
        "        if c > 0 and c < w:\n",
        "            image[:, i, :c] *= shadow_intensity\n",
        "    return image\n",
        "\n",
        "class CarSimDataset(Dataset):\n",
        "    def __init__(self, annotations_file, img_dir, transform=None, augment=True):\n",
        "        self.img_labels = pd.read_csv(annotations_file)\n",
        "        self.img_dir = img_dir\n",
        "        self.transform = transform\n",
        "        self.augment = augment\n",
        "        self.cameras = ['left', 'center', 'right']\n",
        "        self.cameras_steering_correction = [.25, 0., -.25]\n",
        "\n",
        "    def __getitem__(self, idx):\n",
        "        camera_idx = np.random.randint(len(self.cameras)) if self.augment else 1\n",
        "        camera = self.cameras[camera_idx]\n",
        "        img_path = os.path.join(self.img_dir, self.img_labels.iloc[idx][camera].strip())\n",
        "        image = read_image(img_path).float() / 255.0  # Ler a imagem e normalizar os pixels\n",
        "        angle = self.img_labels.iloc[idx]['steer'] + self.cameras_steering_correction[camera_idx]\n",
        "\n",
        "        if self.augment:\n",
        "            # Adiciona sombra aleatória\n",
        "            image = add_random_shadow(image)\n",
        "            # Deslocamento vertical aleatório\n",
        "            v_delta = random.uniform(-0.05, 0.05)\n",
        "            top_offset = 0.375 + v_delta\n",
        "            bottom_offset = 0.125 + v_delta\n",
        "            top = int(top_offset * image.shape[1])\n",
        "            bottom = int(bottom_offset * image.shape[1])\n",
        "            image = image[:, top:-bottom, :]\n",
        "        \n",
        "        if self.transform:\n",
        "            image = self.transform(image)\n",
        "        \n",
        "        return image, angle\n",
        "\n",
        "    def __len__(self):\n",
        "        return len(self.img_labels)\n"
      ]
    },
    {
      "cell_type": "markdown",
      "metadata": {},
      "source": [
        "Crie as variáveis a seguir a partir da classe implementada acima."
      ]
    },
    {
      "cell_type": "code",
      "execution_count": 27,
      "metadata": {},
      "outputs": [],
      "source": [
        "# Transformações específicas do PyTorch\n",
        "transform = transforms.Compose([\n",
        "    transforms.Resize((28, 28)),  # Redimensiona a imagem\n",
        "    transforms.Normalize(mean=[0.485, 0.456, 0.406], std=[0.229, 0.224, 0.225])  # Normalização\n",
        "])\n",
        "\n",
        "# Configuração do Dataset de Treinamento\n",
        "train_dataset = CarSimDataset(\n",
        "    annotations_file='C:\\\\Users\\\\moura\\\\Searches\\\\behavior-cloning\\\\todososdados.csv',\n",
        "    img_dir='DataAndLoader\\\\IMG',\n",
        "    transform=transform,\n",
        "    augment=True  # Ativa aumento de dados para treinamento\n",
        ")\n",
        "\n",
        "# Configuração do Dataset de Teste\n",
        "test_dataset = CarSimDataset(\n",
        "    annotations_file='C:\\\\Users\\\\moura\\\\Searches\\\\behavior-cloning\\\\todososdados.csv',\n",
        "    img_dir='DataAndLoader\\\\IMG',\n",
        "    transform=transform,\n",
        "    augment=False  # Desativa aumento de dados para teste\n",
        ")"
      ]
    },
    {
      "cell_type": "code",
      "execution_count": 28,
      "metadata": {},
      "outputs": [
        {
          "name": "stdout",
          "output_type": "stream",
          "text": [
            "Shape of images: torch.Size([64, 3, 28, 28]), Shape of angles: torch.Size([64])\n"
          ]
        }
      ],
      "source": [
        "\n",
        "# DataLoader para o Treinamento\n",
        "train_dataloader = DataLoader(train_dataset, batch_size=64, shuffle=True)\n",
        "\n",
        "# DataLoader para o Teste\n",
        "test_dataloader = DataLoader(test_dataset, batch_size=64, shuffle=False)\n",
        "\n",
        "# Exemplo de como iterar sobre o DataLoader de Teste\n",
        "for images, angles in test_dataloader:\n",
        "    print(f\"Shape of images: {images.shape}, Shape of angles: {angles.shape}\")\n",
        "    break  # Mostra apenas o primeiro lote"
      ]
    },
    {
      "cell_type": "markdown",
      "metadata": {
        "id": "UXDLTbuqESux"
      },
      "source": [
        "O código abaixo será utilizado para treinar o modelo com o seu dataset."
      ]
    },
    {
      "cell_type": "code",
      "execution_count": 29,
      "metadata": {
        "colab": {
          "base_uri": "https://localhost:8080/",
          "height": 356
        },
        "id": "5VJYlF1KSi44",
        "outputId": "d4f4b5c6-81ff-4871-86ae-1ac30dd54937"
      },
      "outputs": [
        {
          "name": "stdout",
          "output_type": "stream",
          "text": [
            "Shape of X [N, C, H, W]: torch.Size([64, 3, 28, 28])\n",
            "Shape of y: torch.Size([64]) torch.float32\n"
          ]
        }
      ],
      "source": [
        "for X, y in test_dataloader:\n",
        "    print(f\"Shape of X [N, C, H, W]: {X.shape}\")\n",
        "    print(f\"Shape of y: {y.shape} {y.dtype}\")\n",
        "    break"
      ]
    },
    {
      "cell_type": "code",
      "execution_count": 30,
      "metadata": {
        "colab": {
          "base_uri": "https://localhost:8080/"
        },
        "id": "ROBTIl6pAESA",
        "outputId": "6e9f988b-ea0c-47ad-91de-0bef2b30448a"
      },
      "outputs": [
        {
          "name": "stdout",
          "output_type": "stream",
          "text": [
            "Using cpu device\n",
            "NeuralNetwork(\n",
            "  (flatten): Flatten(start_dim=1, end_dim=-1)\n",
            "  (linear_relu_stack): Sequential(\n",
            "    (0): Linear(in_features=2352, out_features=512, bias=True)\n",
            "    (1): ReLU()\n",
            "    (2): Linear(in_features=512, out_features=512, bias=True)\n",
            "    (3): ReLU()\n",
            "    (4): Linear(in_features=512, out_features=1, bias=True)\n",
            "  )\n",
            ")\n"
          ]
        }
      ],
      "source": [
        "# Get cpu, gpu or mps device for training.\n",
        "device = (\n",
        "    \"cuda\"\n",
        "    if torch.cuda.is_available()\n",
        "    else \"mps\"\n",
        "    if torch.backends.mps.is_available()\n",
        "    else \"cpu\"\n",
        ")\n",
        "print(f\"Using {device} device\")\n",
        "\n",
        "# Define model\n",
        "class NeuralNetwork(nn.Module):\n",
        "    def __init__(self):\n",
        "        super().__init__()\n",
        "        self.flatten = nn.Flatten()\n",
        "        self.linear_relu_stack = nn.Sequential(\n",
        "            nn.Linear(28*28*3, 512),\n",
        "            nn.ReLU(),\n",
        "            nn.Linear(512, 512),\n",
        "            nn.ReLU(),\n",
        "            nn.Linear(512, 1)\n",
        "        )\n",
        "\n",
        "    def forward(self, x):\n",
        "        x = self.flatten(x)\n",
        "        logits = self.linear_relu_stack(x)\n",
        "        return logits.squeeze()\n",
        "\n",
        "model = NeuralNetwork().to(device)\n",
        "print(model)"
      ]
    },
    {
      "cell_type": "code",
      "execution_count": 31,
      "metadata": {
        "id": "PJxdeuCBBRc-"
      },
      "outputs": [],
      "source": [
        "loss_fn = nn.MSELoss()\n",
        "optimizer = torch.optim.SGD(model.parameters(), lr=1e-3)"
      ]
    },
    {
      "cell_type": "code",
      "execution_count": 32,
      "metadata": {
        "id": "0Cw8XfLNBY97"
      },
      "outputs": [],
      "source": [
        "def train(dataloader, model, loss_fn, optimizer):\n",
        "    size = len(dataloader.dataset)\n",
        "    model.train()\n",
        "    for batch, (X, y) in enumerate(dataloader):\n",
        "        X, y = X.to(device), y.to(device)\n",
        "\n",
        "        # Compute prediction error\n",
        "        pred = model(X)\n",
        "        loss = loss_fn(pred, y)\n",
        "\n",
        "        # Backpropagation\n",
        "        optimizer.zero_grad()\n",
        "        loss.backward()\n",
        "        optimizer.step()\n",
        "\n",
        "        if batch % 100 == 0:\n",
        "            loss, current = loss.item(), (batch + 1) * len(X)\n",
        "            print(f\"loss: {loss:>7f}  [{current:>5d}/{size:>5d}]\")"
      ]
    },
    {
      "cell_type": "code",
      "execution_count": 33,
      "metadata": {
        "id": "b-T_bjFhBnOX"
      },
      "outputs": [],
      "source": [
        "def test(dataloader, model, loss_fn):\n",
        "    size = len(dataloader.dataset)\n",
        "    num_batches = len(dataloader)\n",
        "    model.eval()\n",
        "    test_loss, correct = 0, 0\n",
        "    with torch.no_grad():\n",
        "        for X, y in dataloader:\n",
        "            X, y = X.to(device), y.to(device)\n",
        "            pred = model(X)\n",
        "            test_loss += loss_fn(pred, y).item()\n",
        "            # correct += (pred.argmax(1) == y).type(torch.float).sum().item()\n",
        "    test_loss /= num_batches\n",
        "    # correct /= size\n",
        "    print(f\"Test Error: \\n Accuracy: {(100*correct):>0.1f}%, Avg loss: {test_loss:>8f} \\n\")"
      ]
    },
    {
      "cell_type": "code",
      "execution_count": 34,
      "metadata": {
        "colab": {
          "base_uri": "https://localhost:8080/",
          "height": 408
        },
        "id": "8x4aJZpNBqAt",
        "outputId": "3387f2ac-9b26-4b92-abf9-5738617078b2"
      },
      "outputs": [
        {
          "name": "stdout",
          "output_type": "stream",
          "text": [
            "Epoch 1\n",
            "-------------------------------\n",
            "loss: 0.066660  [   64/22277]\n",
            "loss: 0.045485  [ 6464/22277]\n",
            "loss: 0.037565  [12864/22277]\n",
            "loss: 0.039113  [19264/22277]\n",
            "Test Error: \n",
            " Accuracy: 0.0%, Avg loss: 0.011126 \n",
            "\n",
            "Epoch 2\n",
            "-------------------------------\n",
            "loss: 0.041347  [   64/22277]\n",
            "loss: 0.041063  [ 6464/22277]\n",
            "loss: 0.024976  [12864/22277]\n",
            "loss: 0.040716  [19264/22277]\n",
            "Test Error: \n",
            " Accuracy: 0.0%, Avg loss: 0.010695 \n",
            "\n",
            "Epoch 3\n",
            "-------------------------------\n",
            "loss: 0.032235  [   64/22277]\n",
            "loss: 0.027940  [ 6464/22277]\n",
            "loss: 0.025921  [12864/22277]\n",
            "loss: 0.021612  [19264/22277]\n",
            "Test Error: \n",
            " Accuracy: 0.0%, Avg loss: 0.010670 \n",
            "\n",
            "Epoch 4\n",
            "-------------------------------\n",
            "loss: 0.037443  [   64/22277]\n",
            "loss: 0.033000  [ 6464/22277]\n",
            "loss: 0.025183  [12864/22277]\n",
            "loss: 0.029771  [19264/22277]\n",
            "Test Error: \n",
            " Accuracy: 0.0%, Avg loss: 0.010624 \n",
            "\n",
            "Epoch 5\n",
            "-------------------------------\n",
            "loss: 0.029586  [   64/22277]\n",
            "loss: 0.022937  [ 6464/22277]\n",
            "loss: 0.025752  [12864/22277]\n",
            "loss: 0.018783  [19264/22277]\n",
            "Test Error: \n",
            " Accuracy: 0.0%, Avg loss: 0.010718 \n",
            "\n",
            "Epoch 6\n",
            "-------------------------------\n",
            "loss: 0.023286  [   64/22277]\n",
            "loss: 0.027800  [ 6464/22277]\n",
            "loss: 0.023285  [12864/22277]\n",
            "loss: 0.025298  [19264/22277]\n",
            "Test Error: \n",
            " Accuracy: 0.0%, Avg loss: 0.010764 \n",
            "\n",
            "Epoch 7\n",
            "-------------------------------\n",
            "loss: 0.023674  [   64/22277]\n",
            "loss: 0.018268  [ 6464/22277]\n",
            "loss: 0.016379  [12864/22277]\n",
            "loss: 0.018869  [19264/22277]\n",
            "Test Error: \n",
            " Accuracy: 0.0%, Avg loss: 0.010729 \n",
            "\n",
            "Epoch 8\n",
            "-------------------------------\n",
            "loss: 0.019116  [   64/22277]\n",
            "loss: 0.020013  [ 6464/22277]\n",
            "loss: 0.016582  [12864/22277]\n",
            "loss: 0.024630  [19264/22277]\n",
            "Test Error: \n",
            " Accuracy: 0.0%, Avg loss: 0.010671 \n",
            "\n",
            "Epoch 9\n",
            "-------------------------------\n",
            "loss: 0.018609  [   64/22277]\n",
            "loss: 0.019219  [ 6464/22277]\n",
            "loss: 0.019289  [12864/22277]\n",
            "loss: 0.025757  [19264/22277]\n",
            "Test Error: \n",
            " Accuracy: 0.0%, Avg loss: 0.010590 \n",
            "\n",
            "Epoch 10\n",
            "-------------------------------\n",
            "loss: 0.014568  [   64/22277]\n",
            "loss: 0.026356  [ 6464/22277]\n",
            "loss: 0.019844  [12864/22277]\n",
            "loss: 0.018737  [19264/22277]\n",
            "Test Error: \n",
            " Accuracy: 0.0%, Avg loss: 0.010655 \n",
            "\n",
            "Done!\n"
          ]
        }
      ],
      "source": [
        "epochs = 10\n",
        "for t in range(epochs):\n",
        "    print(f\"Epoch {t+1}\\n-------------------------------\")\n",
        "    train(train_dataloader, model, loss_fn, optimizer)\n",
        "    test(test_dataloader, model, loss_fn)\n",
        "print(\"Done!\")"
      ]
    },
    {
      "cell_type": "code",
      "execution_count": 35,
      "metadata": {
        "id": "5AaRBZ1gDxUP"
      },
      "outputs": [
        {
          "name": "stdout",
          "output_type": "stream",
          "text": [
            "Saved PyTorch Model State to model.pth\n"
          ]
        }
      ],
      "source": [
        "torch.save(model.state_dict(), \"model_preprocess.pth\")\n",
        "print(\"Saved PyTorch Model State to model.pth\")"
      ]
    },
    {
      "cell_type": "markdown",
      "metadata": {
        "id": "TvtnIBFlD35c"
      },
      "source": [
        "Faça o download do seu modelo após o treinamento, caso queira testá-lo no simulador.\n",
        "\n",
        "O código a seguir demonstra como o modelo será usado para inferência no simulador. Caso seja necessário, altere a função *preprocess*."
      ]
    },
    {
      "cell_type": "code",
      "execution_count": 28,
      "metadata": {
        "id": "RVqjjnUOGc8F"
      },
      "outputs": [],
      "source": [
        "def preprocess(x):\n",
        "    # TODO: se necessário, alterar função\n",
        "    return x"
      ]
    },
    {
      "cell_type": "code",
      "execution_count": 29,
      "metadata": {
        "id": "1LLWerSXFjRR"
      },
      "outputs": [],
      "source": [
        "# model = NeuralNetwork().to(device)\n",
        "# model.load_state_dict(torch.load(\"model.pth\"))"
      ]
    },
    {
      "cell_type": "code",
      "execution_count": 30,
      "metadata": {
        "id": "ZAI2oGcAGqsz"
      },
      "outputs": [],
      "source": [
        "# model.eval()\n",
        "# x = test_data[0][0]\n",
        "# with torch.no_grad():\n",
        "    # x = preprocess(x)\n",
        "    # x = x.to(device)\n",
        "    # pred = model(x)"
      ]
    }
  ],
  "metadata": {
    "colab": {
      "provenance": []
    },
    "kernelspec": {
      "display_name": "Python 3",
      "name": "python3"
    },
    "language_info": {
      "codemirror_mode": {
        "name": "ipython",
        "version": 3
      },
      "file_extension": ".py",
      "mimetype": "text/x-python",
      "name": "python",
      "nbconvert_exporter": "python",
      "pygments_lexer": "ipython3",
      "version": "3.12.4"
    }
  },
  "nbformat": 4,
  "nbformat_minor": 0
}

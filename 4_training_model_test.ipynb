{
  "cells": [
    {
      "cell_type": "markdown",
      "metadata": {
        "id": "_NpMi6bG9z1t"
      },
      "source": [
        "Faça o upload de um arquivo .zip com os seus dados e use o comando abaixo após a finalização do upload para a extração do conteúdo do arquivo no colab."
      ]
    },
    {
      "cell_type": "code",
      "execution_count": 18,
      "metadata": {},
      "outputs": [
        {
          "data": {
            "text/html": [
              "<div>\n",
              "<style scoped>\n",
              "    .dataframe tbody tr th:only-of-type {\n",
              "        vertical-align: middle;\n",
              "    }\n",
              "\n",
              "    .dataframe tbody tr th {\n",
              "        vertical-align: top;\n",
              "    }\n",
              "\n",
              "    .dataframe thead th {\n",
              "        text-align: right;\n",
              "    }\n",
              "</style>\n",
              "<table border=\"1\" class=\"dataframe\">\n",
              "  <thead>\n",
              "    <tr style=\"text-align: right;\">\n",
              "      <th></th>\n",
              "      <th>steer</th>\n",
              "      <th>acceleration</th>\n",
              "      <th>breaking</th>\n",
              "      <th>speed</th>\n",
              "    </tr>\n",
              "  </thead>\n",
              "  <tbody>\n",
              "    <tr>\n",
              "      <th>count</th>\n",
              "      <td>22277.000000</td>\n",
              "      <td>22277.000000</td>\n",
              "      <td>22277.0</td>\n",
              "      <td>22277.000000</td>\n",
              "    </tr>\n",
              "    <tr>\n",
              "      <th>mean</th>\n",
              "      <td>-0.034986</td>\n",
              "      <td>0.997656</td>\n",
              "      <td>0.0</td>\n",
              "      <td>30.142515</td>\n",
              "    </tr>\n",
              "    <tr>\n",
              "      <th>std</th>\n",
              "      <td>0.073005</td>\n",
              "      <td>0.045735</td>\n",
              "      <td>0.0</td>\n",
              "      <td>1.032279</td>\n",
              "    </tr>\n",
              "    <tr>\n",
              "      <th>min</th>\n",
              "      <td>-0.314554</td>\n",
              "      <td>0.000000</td>\n",
              "      <td>0.0</td>\n",
              "      <td>0.000002</td>\n",
              "    </tr>\n",
              "    <tr>\n",
              "      <th>25%</th>\n",
              "      <td>-0.061033</td>\n",
              "      <td>1.000000</td>\n",
              "      <td>0.0</td>\n",
              "      <td>30.190000</td>\n",
              "    </tr>\n",
              "    <tr>\n",
              "      <th>50%</th>\n",
              "      <td>-0.028169</td>\n",
              "      <td>1.000000</td>\n",
              "      <td>0.0</td>\n",
              "      <td>30.190250</td>\n",
              "    </tr>\n",
              "    <tr>\n",
              "      <th>75%</th>\n",
              "      <td>-0.009390</td>\n",
              "      <td>1.000000</td>\n",
              "      <td>0.0</td>\n",
              "      <td>30.190300</td>\n",
              "    </tr>\n",
              "    <tr>\n",
              "      <th>max</th>\n",
              "      <td>0.352113</td>\n",
              "      <td>1.000000</td>\n",
              "      <td>0.0</td>\n",
              "      <td>30.637620</td>\n",
              "    </tr>\n",
              "  </tbody>\n",
              "</table>\n",
              "</div>"
            ],
            "text/plain": [
              "              steer  acceleration  breaking         speed\n",
              "count  22277.000000  22277.000000   22277.0  22277.000000\n",
              "mean      -0.034986      0.997656       0.0     30.142515\n",
              "std        0.073005      0.045735       0.0      1.032279\n",
              "min       -0.314554      0.000000       0.0      0.000002\n",
              "25%       -0.061033      1.000000       0.0     30.190000\n",
              "50%       -0.028169      1.000000       0.0     30.190250\n",
              "75%       -0.009390      1.000000       0.0     30.190300\n",
              "max        0.352113      1.000000       0.0     30.637620"
            ]
          },
          "execution_count": 18,
          "metadata": {},
          "output_type": "execute_result"
        }
      ],
      "source": [
        "import pandas as pd\n",
        "import matplotlib.pyplot as plt\n",
        "data = pd.read_csv('todososdados.csv')\n",
        "data.describe()"
      ]
    },
    {
      "cell_type": "code",
      "execution_count": 2,
      "metadata": {},
      "outputs": [
        {
          "data": {
            "image/png": "[encoded data removed]",
            "text/plain": [
              "<Figure size 1000x500 with 1 Axes>"
            ]
          },
          "metadata": {},
          "output_type": "display_data"
        }
      ],
      "source": [
        "#preparação dos dados\n",
        "import pandas as pd\n",
        "import matplotlib.pyplot as plt\n",
        "data = pd.read_csv('todososdados.csv')\n",
        "\n",
        "plt.figure(figsize=(10, 5))\n",
        "plt.hist(data['steer'], bins=50, color='blue', alpha=0.7)\n",
        "plt.title('Distribuição dos Ângulos de Direção')\n",
        "plt.xlabel('Ângulo de Direção (steer)')\n",
        "plt.ylabel('Frequência')\n",
        "plt.grid(True)\n",
        "plt.show()\n"
      ]
    },
    {
      "cell_type": "markdown",
      "metadata": {
        "id": "smgD-6OS-KuL"
      },
      "source": [
        "Implemente as funções a seguir."
      ]
    },
    {
      "cell_type": "code",
      "execution_count": 1,
      "metadata": {
        "id": "__8dnSXJ_YtC"
      },
      "outputs": [
        {
          "name": "stderr",
          "output_type": "stream",
          "text": [
            "\n",
            "A module that was compiled using NumPy 1.x cannot be run in\n",
            "NumPy 2.0.0 as it may crash. To support both 1.x and 2.x\n",
            "versions of NumPy, modules must be compiled with NumPy 2.0.\n",
            "Some module may need to rebuild instead e.g. with 'pybind11>=2.12'.\n",
            "\n",
            "If you are a user of the module, the easiest solution will be to\n",
            "downgrade to 'numpy<2' or try to upgrade the affected module.\n",
            "We expect that some modules will need time to support NumPy 2.\n",
            "\n",
            "Traceback (most recent call last):  File \"<frozen runpy>\", line 198, in _run_module_as_main\n",
            "  File \"<frozen runpy>\", line 88, in _run_code\n",
            "  File \"c:\\Users\\moura\\anaconda3\\envs\\visao\\Lib\\site-packages\\ipykernel_launcher.py\", line 18, in <module>\n",
            "    app.launch_new_instance()\n",
            "  File \"c:\\Users\\moura\\anaconda3\\envs\\visao\\Lib\\site-packages\\traitlets\\config\\application.py\", line 1075, in launch_instance\n",
            "    app.start()\n",
            "  File \"c:\\Users\\moura\\anaconda3\\envs\\visao\\Lib\\site-packages\\ipykernel\\kernelapp.py\", line 739, in start\n",
            "    self.io_loop.start()\n",
            "  File \"c:\\Users\\moura\\anaconda3\\envs\\visao\\Lib\\site-packages\\tornado\\platform\\asyncio.py\", line 205, in start\n",
            "    self.asyncio_loop.run_forever()\n",
            "  File \"c:\\Users\\moura\\anaconda3\\envs\\visao\\Lib\\asyncio\\base_events.py\", line 641, in run_forever\n",
            "    self._run_once()\n",
            "  File \"c:\\Users\\moura\\anaconda3\\envs\\visao\\Lib\\asyncio\\base_events.py\", line 1987, in _run_once\n",
            "    handle._run()\n",
            "  File \"c:\\Users\\moura\\anaconda3\\envs\\visao\\Lib\\asyncio\\events.py\", line 88, in _run\n",
            "    self._context.run(self._callback, *self._args)\n",
            "  File \"c:\\Users\\moura\\anaconda3\\envs\\visao\\Lib\\site-packages\\ipykernel\\kernelbase.py\", line 545, in dispatch_queue\n",
            "    await self.process_one()\n",
            "  File \"c:\\Users\\moura\\anaconda3\\envs\\visao\\Lib\\site-packages\\ipykernel\\kernelbase.py\", line 534, in process_one\n",
            "    await dispatch(*args)\n",
            "  File \"c:\\Users\\moura\\anaconda3\\envs\\visao\\Lib\\site-packages\\ipykernel\\kernelbase.py\", line 437, in dispatch_shell\n",
            "    await result\n",
            "  File \"c:\\Users\\moura\\anaconda3\\envs\\visao\\Lib\\site-packages\\ipykernel\\ipkernel.py\", line 362, in execute_request\n",
            "    await super().execute_request(stream, ident, parent)\n",
            "  File \"c:\\Users\\moura\\anaconda3\\envs\\visao\\Lib\\site-packages\\ipykernel\\kernelbase.py\", line 778, in execute_request\n",
            "    reply_content = await reply_content\n",
            "  File \"c:\\Users\\moura\\anaconda3\\envs\\visao\\Lib\\site-packages\\ipykernel\\ipkernel.py\", line 449, in do_execute\n",
            "    res = shell.run_cell(\n",
            "  File \"c:\\Users\\moura\\anaconda3\\envs\\visao\\Lib\\site-packages\\ipykernel\\zmqshell.py\", line 549, in run_cell\n",
            "    return super().run_cell(*args, **kwargs)\n",
            "  File \"c:\\Users\\moura\\anaconda3\\envs\\visao\\Lib\\site-packages\\IPython\\core\\interactiveshell.py\", line 3075, in run_cell\n",
            "    result = self._run_cell(\n",
            "  File \"c:\\Users\\moura\\anaconda3\\envs\\visao\\Lib\\site-packages\\IPython\\core\\interactiveshell.py\", line 3130, in _run_cell\n",
            "    result = runner(coro)\n",
            "  File \"c:\\Users\\moura\\anaconda3\\envs\\visao\\Lib\\site-packages\\IPython\\core\\async_helpers.py\", line 129, in _pseudo_sync_runner\n",
            "    coro.send(None)\n",
            "  File \"c:\\Users\\moura\\anaconda3\\envs\\visao\\Lib\\site-packages\\IPython\\core\\interactiveshell.py\", line 3334, in run_cell_async\n",
            "    has_raised = await self.run_ast_nodes(code_ast.body, cell_name,\n",
            "  File \"c:\\Users\\moura\\anaconda3\\envs\\visao\\Lib\\site-packages\\IPython\\core\\interactiveshell.py\", line 3517, in run_ast_nodes\n",
            "    if await self.run_code(code, result, async_=asy):\n",
            "  File \"c:\\Users\\moura\\anaconda3\\envs\\visao\\Lib\\site-packages\\IPython\\core\\interactiveshell.py\", line 3577, in run_code\n",
            "    exec(code_obj, self.user_global_ns, self.user_ns)\n",
            "  File \"C:\\Users\\moura\\AppData\\Local\\Temp\\ipykernel_5540\\1383444278.py\", line 6, in <module>\n",
            "    from torchvision.io import read_image\n",
            "  File \"c:\\Users\\moura\\anaconda3\\envs\\visao\\Lib\\site-packages\\torchvision\\__init__.py\", line 6, in <module>\n",
            "    from torchvision import _meta_registrations, datasets, io, models, ops, transforms, utils\n",
            "  File \"c:\\Users\\moura\\anaconda3\\envs\\visao\\Lib\\site-packages\\torchvision\\models\\__init__.py\", line 2, in <module>\n",
            "    from .convnext import *\n",
            "  File \"c:\\Users\\moura\\anaconda3\\envs\\visao\\Lib\\site-packages\\torchvision\\models\\convnext.py\", line 8, in <module>\n",
            "    from ..ops.misc import Conv2dNormActivation, Permute\n",
            "  File \"c:\\Users\\moura\\anaconda3\\envs\\visao\\Lib\\site-packages\\torchvision\\ops\\__init__.py\", line 23, in <module>\n",
            "    from .poolers import MultiScaleRoIAlign\n",
            "  File \"c:\\Users\\moura\\anaconda3\\envs\\visao\\Lib\\site-packages\\torchvision\\ops\\poolers.py\", line 10, in <module>\n",
            "    from .roi_align import roi_align\n",
            "  File \"c:\\Users\\moura\\anaconda3\\envs\\visao\\Lib\\site-packages\\torchvision\\ops\\roi_align.py\", line 4, in <module>\n",
            "    import torch._dynamo\n",
            "  File \"c:\\Users\\moura\\anaconda3\\envs\\visao\\Lib\\site-packages\\torch\\_dynamo\\__init__.py\", line 64, in <module>\n",
            "    torch.manual_seed = disable(torch.manual_seed)\n",
            "  File \"c:\\Users\\moura\\anaconda3\\envs\\visao\\Lib\\site-packages\\torch\\_dynamo\\decorators.py\", line 50, in disable\n",
            "    return DisableContext()(fn)\n",
            "  File \"c:\\Users\\moura\\anaconda3\\envs\\visao\\Lib\\site-packages\\torch\\_dynamo\\eval_frame.py\", line 410, in __call__\n",
            "    (filename is None or trace_rules.check(fn))\n",
            "  File \"c:\\Users\\moura\\anaconda3\\envs\\visao\\Lib\\site-packages\\torch\\_dynamo\\trace_rules.py\", line 3378, in check\n",
            "    return check_verbose(obj, is_inlined_call).skipped\n",
            "  File \"c:\\Users\\moura\\anaconda3\\envs\\visao\\Lib\\site-packages\\torch\\_dynamo\\trace_rules.py\", line 3361, in check_verbose\n",
            "    rule = torch._dynamo.trace_rules.lookup_inner(\n",
            "  File \"c:\\Users\\moura\\anaconda3\\envs\\visao\\Lib\\site-packages\\torch\\_dynamo\\trace_rules.py\", line 3442, in lookup_inner\n",
            "    rule = get_torch_obj_rule_map().get(obj, None)\n",
            "  File \"c:\\Users\\moura\\anaconda3\\envs\\visao\\Lib\\site-packages\\torch\\_dynamo\\trace_rules.py\", line 2782, in get_torch_obj_rule_map\n",
            "    obj = load_object(k)\n",
            "  File \"c:\\Users\\moura\\anaconda3\\envs\\visao\\Lib\\site-packages\\torch\\_dynamo\\trace_rules.py\", line 2811, in load_object\n",
            "    val = _load_obj_from_str(x[0])\n",
            "  File \"c:\\Users\\moura\\anaconda3\\envs\\visao\\Lib\\site-packages\\torch\\_dynamo\\trace_rules.py\", line 2795, in _load_obj_from_str\n",
            "    return getattr(importlib.import_module(module), obj_name)\n",
            "  File \"c:\\Users\\moura\\anaconda3\\envs\\visao\\Lib\\importlib\\__init__.py\", line 90, in import_module\n",
            "    return _bootstrap._gcd_import(name[level:], package, level)\n",
            "  File \"c:\\Users\\moura\\anaconda3\\envs\\visao\\Lib\\site-packages\\torch\\nested\\_internal\\nested_tensor.py\", line 417, in <module>\n",
            "    values=torch.randn(3, 3, device=\"meta\"),\n",
            "c:\\Users\\moura\\anaconda3\\envs\\visao\\Lib\\site-packages\\torch\\nested\\_internal\\nested_tensor.py:417: UserWarning: Failed to initialize NumPy: _ARRAY_API not found (Triggered internally at ..\\torch\\csrc\\utils\\tensor_numpy.cpp:84.)\n",
            "  values=torch.randn(3, 3, device=\"meta\"),\n"
          ]
        }
      ],
      "source": [
        "from torch.utils.data import Dataset, DataLoader\n",
        "import torch\n",
        "from torch import nn\n",
        "import os\n",
        "import pandas as pd\n",
        "from torchvision.io import read_image\n",
        "from torchvision import transforms\n",
        "import numpy as np\n",
        "import random\n",
        "import matplotlib.pyplot as plt\n"
      ]
    },
    {
      "cell_type": "code",
      "execution_count": 2,
      "metadata": {
        "id": "0asP2qsKXuBN"
      },
      "outputs": [],
      "source": [
        "\n",
        "def add_random_shadow(image):\n",
        "    # Adiciona sombra aleatória como uma fatia vertical da imagem\n",
        "    h, w = image.shape[1], image.shape[2]\n",
        "    x1, x2 = np.random.choice(w, 2, replace=False)\n",
        "    k = h / (x2 - x1)\n",
        "    b = - k * x1\n",
        "    shadow_intensity = 0.5\n",
        "    for i in range(h):\n",
        "        c = int((i - b) / k)\n",
        "        if c > 0 and c < w:\n",
        "            image[:, i, :c] *= shadow_intensity\n",
        "    return image\n",
        "\n",
        "class CarSimDataset(Dataset):\n",
        "    def __init__(self, annotations_file, img_dir, transform=None, augment=True):\n",
        "        self.img_labels = pd.read_csv(annotations_file)\n",
        "        self.img_dir = img_dir\n",
        "        self.transform = transform\n",
        "        self.augment = augment\n",
        "        self.cameras = ['left', 'center', 'right']\n",
        "        self.cameras_steering_correction = [.25, 0., -.25]\n",
        "\n",
        "    def __getitem__(self, idx):\n",
        "        camera_idx = np.random.randint(len(self.cameras)) if self.augment else 1\n",
        "        camera = self.cameras[camera_idx]\n",
        "        img_path = os.path.join(self.img_dir, self.img_labels.iloc[idx][camera].strip())\n",
        "        image = read_image(img_path).float() / 255.0  # Ler a imagem e normalizar os pixels\n",
        "        angle = self.img_labels.iloc[idx]['steer'] + self.cameras_steering_correction[camera_idx]\n",
        "\n",
        "        if self.augment:\n",
        "            # Adiciona sombra aleatória\n",
        "            image = add_random_shadow(image)\n",
        "            # Deslocamento vertical aleatório\n",
        "            v_delta = random.uniform(-0.05, 0.05)\n",
        "            top_offset = 0.375 + v_delta\n",
        "            bottom_offset = 0.125 + v_delta\n",
        "            top = int(top_offset * image.shape[1])\n",
        "            bottom = int(bottom_offset * image.shape[1])\n",
        "            image = image[:, top:-bottom, :]\n",
        "        \n",
        "        if self.transform:\n",
        "            image = self.transform(image)\n",
        "        \n",
        "        return image, angle\n",
        "\n",
        "    def __len__(self):\n",
        "        return len(self.img_labels)\n"
      ]
    },
    {
      "cell_type": "markdown",
      "metadata": {},
      "source": [
        "Crie as variáveis a seguir a partir da classe implementada acima."
      ]
    },
    {
      "cell_type": "code",
      "execution_count": 3,
      "metadata": {},
      "outputs": [],
      "source": [
        "# Transformações específicas do PyTorch\n",
        "transform = transforms.Compose([\n",
        "    transforms.Resize((28, 28)),  # Redimensiona a imagem\n",
        "    transforms.Normalize(mean=[0.485, 0.456, 0.406], std=[0.229, 0.224, 0.225])  # Normalização\n",
        "])\n",
        "\n",
        "# Configuração do Dataset de Treinamento\n",
        "train_dataset = CarSimDataset(\n",
        "    annotations_file='C:\\\\Users\\\\moura\\\\Searches\\\\behavior-cloning\\\\todososdados.csv',\n",
        "    img_dir='DataAndLoader\\\\IMG',\n",
        "    transform=transform,\n",
        "    augment=True  # Ativa aumento de dados para treinamento\n",
        ")\n",
        "\n",
        "# Configuração do Dataset de Teste\n",
        "test_dataset = CarSimDataset(\n",
        "    annotations_file='C:\\\\Users\\\\moura\\\\Searches\\\\behavior-cloning\\\\todososdados.csv',\n",
        "    img_dir='DataAndLoader\\\\IMG',\n",
        "    transform=transform,\n",
        "    augment=False  # Desativa aumento de dados para teste\n",
        ")"
      ]
    },
    {
      "cell_type": "code",
      "execution_count": 4,
      "metadata": {},
      "outputs": [
        {
          "name": "stdout",
          "output_type": "stream",
          "text": [
            "Shape of images: torch.Size([64, 3, 28, 28]), Shape of angles: torch.Size([64])\n"
          ]
        }
      ],
      "source": [
        "\n",
        "# DataLoader para o Treinamento\n",
        "train_dataloader = DataLoader(train_dataset, batch_size=64, shuffle=True)\n",
        "\n",
        "# DataLoader para o Teste\n",
        "test_dataloader = DataLoader(test_dataset, batch_size=64, shuffle=False)\n",
        "\n",
        "# Exemplo de como iterar sobre o DataLoader de Teste\n",
        "for images, angles in test_dataloader:\n",
        "    print(f\"Shape of images: {images.shape}, Shape of angles: {angles.shape}\")\n",
        "    break  # Mostra apenas o primeiro lote"
      ]
    },
    {
      "cell_type": "code",
      "execution_count": 8,
      "metadata": {},
      "outputs": [
        {
          "name": "stdout",
          "output_type": "stream",
          "text": [
            "Total number of images in the train dataset: 22277\n"
          ]
        }
      ],
      "source": [
        "# Verificar o número total de imagens no dataset\n",
        "num_images = len(train_dataset)\n",
        "print(f\"Total number of images in the train dataset: {num_images}\")\n"
      ]
    },
    {
      "cell_type": "markdown",
      "metadata": {},
      "source": [
        "# teste"
      ]
    },
    {
      "cell_type": "code",
      "execution_count": 9,
      "metadata": {},
      "outputs": [],
      "source": [
        "import numpy as np\n",
        "import pandas as pd\n",
        "import os\n",
        "from torchvision.io import read_image\n",
        "from torch.utils.data import Dataset\n",
        "import torchvision.transforms as transforms\n",
        "import random\n",
        "\n",
        "def add_random_shadow(image):\n",
        "    h, w = image.shape[1], image.shape[2]\n",
        "    x1, x2 = np.random.choice(w, 2, replace=False)\n",
        "    k = h / (x2 - x1)\n",
        "    b = - k * x1\n",
        "    shadow_intensity = 0.5\n",
        "    for i in range(h):\n",
        "        c = int((i - b) / k)\n",
        "        if c > 0 and c < w:\n",
        "            image[:, i, :c] *= shadow_intensity\n",
        "    return image\n",
        "\n",
        "def add_random_brightness(image):\n",
        "    brightness_factor = np.random.uniform(0.5, 1.5)\n",
        "    image = image * brightness_factor\n",
        "    return image.clamp(0, 1) \n",
        "\n",
        "def random_rotate(image, angle):\n",
        "    angle = np.random.uniform(-angle, angle)\n",
        "    return transforms.functional.rotate(image, angle)\n",
        "\n",
        "class CarSimDataset(Dataset):\n",
        "    def __init__(self, annotations_file, img_dir, transform=None, augment=True):\n",
        "        self.img_labels = pd.read_csv(annotations_file)\n",
        "        self.img_dir = img_dir\n",
        "        self.transform = transform\n",
        "        self.augment = augment\n",
        "        self.cameras = ['left', 'center', 'right']\n",
        "        self.cameras_steering_correction = [.25, 0., -.25]\n",
        "\n",
        "    def __getitem__(self, idx):\n",
        "        if self.augment:\n",
        "            probs = np.abs(self.img_labels['steer']) #+ 0.01  # Evitar divisão por zero\n",
        "            probs /= probs.sum()  # Normalizar para formar uma distribuição de probabilidade\n",
        "            idx = np.random.choice(self.img_labels.index, p=probs)\n",
        "        \n",
        "        camera_idx = np.random.randint(len(self.cameras))\n",
        "        camera = self.cameras[camera_idx]\n",
        "        img_path = os.path.join(self.img_dir, self.img_labels.iloc[idx][camera].strip())\n",
        "        image = read_image(img_path).float() / 255.0\n",
        "\n",
        "        angle = self.img_labels.iloc[idx]['steer'] + self.cameras_steering_correction[camera_idx]\n",
        "\n",
        "        if self.augment:\n",
        "            image = add_random_shadow(image)\n",
        "            image = add_random_brightness(image)\n",
        "            image = random_rotate(image, 5)  # Rotação de até 5 graus\n",
        "\n",
        "            # Outras transformações aqui, se necessário\n",
        "        \n",
        "        if self.transform:\n",
        "            image = self.transform(image)\n",
        "        \n",
        "        return image, angle\n",
        "\n",
        "    def __len__(self):\n",
        "        return len(self.img_labels)\n",
        "\n",
        "# Transformações específicas do PyTorch\n",
        "transform = transforms.Compose([\n",
        "    transforms.Resize((28, 28)),  # Ajustado para uma resolução maior\n",
        "    \n",
        "    transforms.Normalize(mean=[0.485, 0.456, 0.406], std=[0.229, 0.224, 0.225])\n",
        "])\n",
        "\n",
        "# Configuração do Dataset de Treinamento\n",
        "train_dataset = CarSimDataset(\n",
        "    annotations_file='C:\\\\Users\\\\moura\\\\Searches\\\\behavior-cloning\\\\todososdados.csv',\n",
        "    img_dir='DataAndLoader\\\\IMG',\n",
        "    transform=transform,\n",
        "    augment=True\n",
        ")\n",
        "\n",
        "# Configuração do Dataset de Teste\n",
        "test_dataset = CarSimDataset(\n",
        "    annotations_file='C:\\\\Users\\\\moura\\\\Searches\\\\behavior-cloning\\\\todososdados.csv',\n",
        "    img_dir='DataAndLoader\\\\IMG',\n",
        "    transform=transform,\n",
        "    augment=False\n",
        ")\n"
      ]
    },
    {
      "cell_type": "code",
      "execution_count": 10,
      "metadata": {},
      "outputs": [
        {
          "name": "stdout",
          "output_type": "stream",
          "text": [
            "Shape of images: torch.Size([64, 3, 28, 28]), Shape of angles: torch.Size([64])\n"
          ]
        }
      ],
      "source": [
        "# DataLoader para o Treinamento\n",
        "train_dataloader = DataLoader(train_dataset, batch_size=64, shuffle=True)\n",
        "\n",
        "# DataLoader para o Teste\n",
        "test_dataloader = DataLoader(test_dataset, batch_size=64, shuffle=False)\n",
        "\n",
        "# Exemplo de como iterar sobre o DataLoader de Teste\n",
        "for images, angles in test_dataloader:\n",
        "    print(f\"Shape of images: {images.shape}, Shape of angles: {angles.shape}\")\n",
        "    break  # Mostra apenas o primeiro lote"
      ]
    },
    {
      "cell_type": "code",
      "execution_count": 11,
      "metadata": {},
      "outputs": [
        {
          "name": "stdout",
          "output_type": "stream",
          "text": [
            "Total number of images in the train dataset: 22277\n"
          ]
        }
      ],
      "source": [
        "# Verificar o número total de imagens no dataset\n",
        "num_images = len(train_dataset)\n",
        "print(f\"Total number of images in the train dataset: {num_images}\")"
      ]
    },
    {
      "cell_type": "markdown",
      "metadata": {
        "id": "UXDLTbuqESux"
      },
      "source": [
        "O código abaixo será utilizado para treinar o modelo com o seu dataset."
      ]
    },
    {
      "cell_type": "code",
      "execution_count": 51,
      "metadata": {
        "colab": {
          "base_uri": "https://localhost:8080/",
          "height": 356
        },
        "id": "5VJYlF1KSi44",
        "outputId": "d4f4b5c6-81ff-4871-86ae-1ac30dd54937"
      },
      "outputs": [
        {
          "name": "stdout",
          "output_type": "stream",
          "text": [
            "Shape of X [N, C, H, W]: torch.Size([64, 3, 28, 28])\n",
            "Shape of y: torch.Size([64]) torch.float32\n"
          ]
        }
      ],
      "source": [
        "for X, y in test_dataloader:\n",
        "    print(f\"Shape of X [N, C, H, W]: {X.shape}\")\n",
        "    print(f\"Shape of y: {y.shape} {y.dtype}\")\n",
        "    break"
      ]
    },
    {
      "cell_type": "code",
      "execution_count": 52,
      "metadata": {
        "colab": {
          "base_uri": "https://localhost:8080/"
        },
        "id": "ROBTIl6pAESA",
        "outputId": "6e9f988b-ea0c-47ad-91de-0bef2b30448a"
      },
      "outputs": [
        {
          "name": "stdout",
          "output_type": "stream",
          "text": [
            "Using cpu device\n",
            "NeuralNetwork(\n",
            "  (flatten): Flatten(start_dim=1, end_dim=-1)\n",
            "  (linear_relu_stack): Sequential(\n",
            "    (0): Linear(in_features=2352, out_features=512, bias=True)\n",
            "    (1): ReLU()\n",
            "    (2): Linear(in_features=512, out_features=512, bias=True)\n",
            "    (3): ReLU()\n",
            "    (4): Linear(in_features=512, out_features=1, bias=True)\n",
            "  )\n",
            ")\n"
          ]
        }
      ],
      "source": [
        "# Get cpu, gpu or mps device for training.\n",
        "device = (\n",
        "    \"cuda\"\n",
        "    if torch.cuda.is_available()\n",
        "    else \"mps\"\n",
        "    if torch.backends.mps.is_available()\n",
        "    else \"cpu\"\n",
        ")\n",
        "print(f\"Using {device} device\")\n",
        "\n",
        "# Define model\n",
        "class NeuralNetwork(nn.Module):\n",
        "    def __init__(self):\n",
        "        super().__init__()\n",
        "        self.flatten = nn.Flatten()\n",
        "        self.linear_relu_stack = nn.Sequential(\n",
        "            nn.Linear(28*28*3, 512),\n",
        "            nn.ReLU(),\n",
        "            nn.Linear(512, 512),\n",
        "            nn.ReLU(),\n",
        "            nn.Linear(512, 1)\n",
        "        )\n",
        "\n",
        "    def forward(self, x):\n",
        "        x = self.flatten(x)\n",
        "        logits = self.linear_relu_stack(x)\n",
        "        return logits.squeeze()\n",
        "\n",
        "model = NeuralNetwork().to(device)\n",
        "print(model)"
      ]
    },
    {
      "cell_type": "code",
      "execution_count": 53,
      "metadata": {
        "id": "PJxdeuCBBRc-"
      },
      "outputs": [],
      "source": [
        "loss_fn = nn.MSELoss()\n",
        "optimizer = torch.optim.SGD(model.parameters(), lr=1e-3)"
      ]
    },
    {
      "cell_type": "code",
      "execution_count": 54,
      "metadata": {
        "id": "0Cw8XfLNBY97"
      },
      "outputs": [],
      "source": [
        "def train(dataloader, model, loss_fn, optimizer):\n",
        "    size = len(dataloader.dataset)\n",
        "    model.train()\n",
        "    for batch, (X, y) in enumerate(dataloader):\n",
        "        X, y = X.to(device), y.to(device)\n",
        "\n",
        "        # Compute prediction error\n",
        "        pred = model(X)\n",
        "        loss = loss_fn(pred, y)\n",
        "\n",
        "        # Backpropagation\n",
        "        optimizer.zero_grad()\n",
        "        loss.backward()\n",
        "        optimizer.step()\n",
        "\n",
        "        if batch % 100 == 0:\n",
        "            loss, current = loss.item(), (batch + 1) * len(X)\n",
        "            print(f\"loss: {loss:>7f}  [{current:>5d}/{size:>5d}]\")"
      ]
    },
    {
      "cell_type": "code",
      "execution_count": 55,
      "metadata": {
        "id": "b-T_bjFhBnOX"
      },
      "outputs": [],
      "source": [
        "def test(dataloader, model, loss_fn):\n",
        "    size = len(dataloader.dataset)\n",
        "    num_batches = len(dataloader)\n",
        "    model.eval()\n",
        "    test_loss, correct = 0, 0\n",
        "    with torch.no_grad():\n",
        "        for X, y in dataloader:\n",
        "            X, y = X.to(device), y.to(device)\n",
        "            pred = model(X)\n",
        "            test_loss += loss_fn(pred, y).item()\n",
        "            # correct += (pred.argmax(1) == y).type(torch.float).sum().item()\n",
        "    test_loss /= num_batches\n",
        "    # correct /= size\n",
        "    print(f\"Test Error: \\n Accuracy: {(100*correct):>0.1f}%, Avg loss: {test_loss:>8f} \\n\")"
      ]
    },
    {
      "cell_type": "code",
      "execution_count": 56,
      "metadata": {
        "colab": {
          "base_uri": "https://localhost:8080/",
          "height": 408
        },
        "id": "8x4aJZpNBqAt",
        "outputId": "3387f2ac-9b26-4b92-abf9-5738617078b2"
      },
      "outputs": [
        {
          "name": "stdout",
          "output_type": "stream",
          "text": [
            "Epoch 1\n",
            "-------------------------------\n",
            "loss: 0.084525  [   64/22277]\n",
            "loss: 0.036148  [ 6464/22277]\n",
            "loss: 0.062836  [12864/22277]\n",
            "loss: 0.056677  [19264/22277]\n",
            "Test Error: \n",
            " Accuracy: 0.0%, Avg loss: 0.042572 \n",
            "\n",
            "Epoch 2\n",
            "-------------------------------\n",
            "loss: 0.049517  [   64/22277]\n",
            "loss: 0.057229  [ 6464/22277]\n",
            "loss: 0.046532  [12864/22277]\n",
            "loss: 0.032012  [19264/22277]\n",
            "Test Error: \n",
            " Accuracy: 0.0%, Avg loss: 0.037673 \n",
            "\n",
            "Epoch 3\n",
            "-------------------------------\n",
            "loss: 0.040782  [   64/22277]\n",
            "loss: 0.033145  [ 6464/22277]\n",
            "loss: 0.040849  [12864/22277]\n",
            "loss: 0.031492  [19264/22277]\n",
            "Test Error: \n",
            " Accuracy: 0.0%, Avg loss: 0.034234 \n",
            "\n",
            "Epoch 4\n",
            "-------------------------------\n",
            "loss: 0.025317  [   64/22277]\n",
            "loss: 0.031435  [ 6464/22277]\n",
            "loss: 0.025879  [12864/22277]\n",
            "loss: 0.033688  [19264/22277]\n",
            "Test Error: \n",
            " Accuracy: 0.0%, Avg loss: 0.033961 \n",
            "\n",
            "Epoch 5\n",
            "-------------------------------\n",
            "loss: 0.027174  [   64/22277]\n",
            "loss: 0.019076  [ 6464/22277]\n",
            "loss: 0.028621  [12864/22277]\n",
            "loss: 0.023256  [19264/22277]\n",
            "Test Error: \n",
            " Accuracy: 0.0%, Avg loss: 0.032768 \n",
            "\n",
            "Epoch 6\n",
            "-------------------------------\n",
            "loss: 0.023091  [   64/22277]\n",
            "loss: 0.022805  [ 6464/22277]\n",
            "loss: 0.021015  [12864/22277]\n",
            "loss: 0.025297  [19264/22277]\n",
            "Test Error: \n",
            " Accuracy: 0.0%, Avg loss: 0.034160 \n",
            "\n",
            "Epoch 7\n",
            "-------------------------------\n",
            "loss: 0.018470  [   64/22277]\n",
            "loss: 0.016810  [ 6464/22277]\n",
            "loss: 0.022579  [12864/22277]\n",
            "loss: 0.023574  [19264/22277]\n",
            "Test Error: \n",
            " Accuracy: 0.0%, Avg loss: 0.034300 \n",
            "\n",
            "Epoch 8\n",
            "-------------------------------\n",
            "loss: 0.021787  [   64/22277]\n",
            "loss: 0.018570  [ 6464/22277]\n",
            "loss: 0.012699  [12864/22277]\n",
            "loss: 0.014445  [19264/22277]\n",
            "Test Error: \n",
            " Accuracy: 0.0%, Avg loss: 0.034109 \n",
            "\n",
            "Epoch 9\n",
            "-------------------------------\n",
            "loss: 0.018636  [   64/22277]\n",
            "loss: 0.011012  [ 6464/22277]\n",
            "loss: 0.014011  [12864/22277]\n",
            "loss: 0.016927  [19264/22277]\n",
            "Test Error: \n",
            " Accuracy: 0.0%, Avg loss: 0.038312 \n",
            "\n",
            "Epoch 10\n",
            "-------------------------------\n",
            "loss: 0.013367  [   64/22277]\n",
            "loss: 0.014903  [ 6464/22277]\n",
            "loss: 0.010698  [12864/22277]\n",
            "loss: 0.009192  [19264/22277]\n",
            "Test Error: \n",
            " Accuracy: 0.0%, Avg loss: 0.039502 \n",
            "\n",
            "Done!\n"
          ]
        }
      ],
      "source": [
        "epochs = 10\n",
        "for t in range(epochs):\n",
        "    print(f\"Epoch {t+1}\\n-------------------------------\")\n",
        "    train(train_dataloader, model, loss_fn, optimizer)\n",
        "    test(test_dataloader, model, loss_fn)\n",
        "print(\"Done!\")"
      ]
    },
    {
      "cell_type": "code",
      "execution_count": 57,
      "metadata": {
        "id": "5AaRBZ1gDxUP"
      },
      "outputs": [
        {
          "name": "stdout",
          "output_type": "stream",
          "text": [
            "Saved PyTorch Model State to model.pth\n"
          ]
        }
      ],
      "source": [
        "torch.save(model.state_dict(), \"model_preprocess3.pth\")\n",
        "print(\"Saved PyTorch Model State to model.pth\")"
      ]
    },
    {
      "cell_type": "markdown",
      "metadata": {
        "id": "TvtnIBFlD35c"
      },
      "source": [
        "Faça o download do seu modelo após o treinamento, caso queira testá-lo no simulador.\n",
        "\n",
        "O código a seguir demonstra como o modelo será usado para inferência no simulador. Caso seja necessário, altere a função *preprocess*."
      ]
    },
    {
      "cell_type": "code",
      "execution_count": 28,
      "metadata": {
        "id": "RVqjjnUOGc8F"
      },
      "outputs": [],
      "source": [
        "def preprocess(x):\n",
        "    # TODO: se necessário, alterar função\n",
        "    return x"
      ]
    },
    {
      "cell_type": "code",
      "execution_count": 29,
      "metadata": {
        "id": "1LLWerSXFjRR"
      },
      "outputs": [],
      "source": [
        "# model = NeuralNetwork().to(device)\n",
        "# model.load_state_dict(torch.load(\"model.pth\"))"
      ]
    },
    {
      "cell_type": "code",
      "execution_count": 30,
      "metadata": {
        "id": "ZAI2oGcAGqsz"
      },
      "outputs": [],
      "source": [
        "# model.eval()\n",
        "# x = test_data[0][0]\n",
        "# with torch.no_grad():\n",
        "    # x = preprocess(x)\n",
        "    # x = x.to(device)\n",
        "    # pred = model(x)"
      ]
    }
  ],
  "metadata": {
    "colab": {
      "provenance": []
    },
    "kernelspec": {
      "display_name": "Python 3",
      "name": "python3"
    },
    "language_info": {
      "codemirror_mode": {
        "name": "ipython",
        "version": 3
      },
      "file_extension": ".py",
      "mimetype": "text/x-python",
      "name": "python",
      "nbconvert_exporter": "python",
      "pygments_lexer": "ipython3",
      "version": "3.12.4"
    }
  },
  "nbformat": 4,
  "nbformat_minor": 0
}
